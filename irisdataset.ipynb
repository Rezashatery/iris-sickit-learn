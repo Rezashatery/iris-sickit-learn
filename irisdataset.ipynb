{
 "cells": [
  {
   "cell_type": "markdown",
   "metadata": {},
   "source": [
    "# Introducing Scikit-Learn\n",
    "\n",
    "<a href=\"http://scikit-learn.org\">Scikit-Learn</a>\n",
    "- package that provides efficient versions of a large number of common algorithms\n",
    "- clean, uniform, and streamlined API\n",
    "- very useful and complete online documentation.\n",
    "    - once you understand the basic use and syntax of Scikit-Learn for one type of model, switching to a new model or algorithm is very straightforward"
   ]
  },
  {
   "cell_type": "markdown",
   "metadata": {},
   "source": [
    "## Data Representation in Scikit-Learn\n",
    "\n",
    "### Data as table\n",
    "\n",
    "- a two-dimensional grid of data\n",
    "    - rows represent individual elements of the data set\n",
    "    - columns represent quantities related to each of these elements\n",
    "\n",
    "- Example: [Iris dataset](https://en.wikipedia.org/wiki/Iris_flower_data_set)\n",
    "    - analyzed by Ronald Fisher in 1936\n",
    "    - download this dataset in the form of a Pandas ``DataFrame`` "
   ]
  },
  {
   "cell_type": "code",
   "execution_count": 1,
   "metadata": {},
   "outputs": [
    {
     "name": "stderr",
     "output_type": "stream",
     "text": [
      "/home/pourya/anaconda3/lib/python3.9/site-packages/scipy/__init__.py:146: UserWarning: A NumPy version >=1.16.5 and <1.23.0 is required for this version of SciPy (detected version 1.26.2\n",
      "  warnings.warn(f\"A NumPy version >={np_minversion} and <{np_maxversion}\"\n"
     ]
    }
   ],
   "source": [
    "import seaborn as sns\n",
    "import pandas as pd\n",
    "train_size = 0.67"
   ]
  }
 ],
 "metadata": {
  "kernelspec": {
   "display_name": "Anoconda (base)",
   "language": "python",
   "name": "anaconda-base"
  },
  "language_info": {
   "codemirror_mode": {
    "name": "ipython",
    "version": 3
   },
   "file_extension": ".py",
   "mimetype": "text/x-python",
   "name": "python",
   "nbconvert_exporter": "python",
   "pygments_lexer": "ipython3",
   "version": "3.9.13"
  }
 },
 "nbformat": 4,
 "nbformat_minor": 2
}
