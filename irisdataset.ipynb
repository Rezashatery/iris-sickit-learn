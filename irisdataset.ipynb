{
 "cells": [
  {
   "cell_type": "markdown",
   "metadata": {},
   "source": [
    "# Introducing Scikit-Learn\n",
    "\n",
    "<a href=\"http://scikit-learn.org\">Scikit-Learn</a>\n",
    "- package that provides efficient versions of a large number of common algorithms\n",
    "- clean, uniform, and streamlined API\n",
    "- very useful and complete online documentation.\n",
    "    - once you understand the basic use and syntax of Scikit-Learn for one type of model, switching to a new model or algorithm is very straightforward"
   ]
  },
  {
   "cell_type": "markdown",
   "metadata": {},
   "source": [
    "## Data Representation in Scikit-Learn\n",
    "\n",
    "### Data as table\n",
    "\n",
    "- a two-dimensional grid of data\n",
    "    - rows represent individual elements of the data set\n",
    "    - columns represent quantities related to each of these elements\n",
    "\n",
    "- Example: [Iris dataset](https://en.wikipedia.org/wiki/Iris_flower_data_set)\n",
    "    - analyzed by Ronald Fisher in 1936\n",
    "    - download this dataset in the form of a Pandas ``DataFrame`` "
   ]
  },
  {
   "cell_type": "code",
   "execution_count": 1,
   "metadata": {},
   "outputs": [
    {
     "name": "stderr",
     "output_type": "stream",
     "text": [
      "/home/pourya/anaconda3/lib/python3.9/site-packages/scipy/__init__.py:146: UserWarning: A NumPy version >=1.16.5 and <1.23.0 is required for this version of SciPy (detected version 1.26.2\n",
      "  warnings.warn(f\"A NumPy version >={np_minversion} and <{np_maxversion}\"\n"
     ]
    }
   ],
   "source": [
    "import seaborn as sns\n",
    "import pandas as pd\n",
    "train_size = 0.67"
   ]
  },
  {
   "cell_type": "markdown",
   "metadata": {},
   "source": [
    "Download the __Iris__ dataset at the url `https://archive.ics.uci.edu/ml/machine-learning-databases/iris/iris.data` or from your local file, if you already have it. The file does not have header, use as column names the list below,  inspect the text file to see which character is used as separator.\n",
    "\n",
    "`'sepal length', 'sepal width', 'petal length', 'petal width', 'species'`\n",
    "\n",
    "Use the dataframe name `iris`. Show the head of `iris`\n",
    "\n",
    "As an alternative way of loading the data, use [this utility](https://scikit-learn.org/stable/datasets/index.html) included in scikit-learn\n",
    "\n"
   ]
  },
  {
   "cell_type": "code",
   "execution_count": 2,
   "metadata": {},
   "outputs": [
    {
     "data": {
      "text/html": [
       "<div>\n",
       "<style scoped>\n",
       "    .dataframe tbody tr th:only-of-type {\n",
       "        vertical-align: middle;\n",
       "    }\n",
       "\n",
       "    .dataframe tbody tr th {\n",
       "        vertical-align: top;\n",
       "    }\n",
       "\n",
       "    .dataframe thead th {\n",
       "        text-align: right;\n",
       "    }\n",
       "</style>\n",
       "<table border=\"1\" class=\"dataframe\">\n",
       "  <thead>\n",
       "    <tr style=\"text-align: right;\">\n",
       "      <th></th>\n",
       "      <th>sepal length</th>\n",
       "      <th>sepal width</th>\n",
       "      <th>petal length</th>\n",
       "      <th>petal width</th>\n",
       "      <th>species</th>\n",
       "    </tr>\n",
       "  </thead>\n",
       "  <tbody>\n",
       "    <tr>\n",
       "      <th>0</th>\n",
       "      <td>5.1</td>\n",
       "      <td>3.5</td>\n",
       "      <td>1.4</td>\n",
       "      <td>0.2</td>\n",
       "      <td>Iris-setosa</td>\n",
       "    </tr>\n",
       "    <tr>\n",
       "      <th>1</th>\n",
       "      <td>4.9</td>\n",
       "      <td>3.0</td>\n",
       "      <td>1.4</td>\n",
       "      <td>0.2</td>\n",
       "      <td>Iris-setosa</td>\n",
       "    </tr>\n",
       "    <tr>\n",
       "      <th>2</th>\n",
       "      <td>4.7</td>\n",
       "      <td>3.2</td>\n",
       "      <td>1.3</td>\n",
       "      <td>0.2</td>\n",
       "      <td>Iris-setosa</td>\n",
       "    </tr>\n",
       "    <tr>\n",
       "      <th>3</th>\n",
       "      <td>4.6</td>\n",
       "      <td>3.1</td>\n",
       "      <td>1.5</td>\n",
       "      <td>0.2</td>\n",
       "      <td>Iris-setosa</td>\n",
       "    </tr>\n",
       "  </tbody>\n",
       "</table>\n",
       "</div>"
      ],
      "text/plain": [
       "   sepal length  sepal width  petal length  petal width      species\n",
       "0           5.1          3.5           1.4          0.2  Iris-setosa\n",
       "1           4.9          3.0           1.4          0.2  Iris-setosa\n",
       "2           4.7          3.2           1.3          0.2  Iris-setosa\n",
       "3           4.6          3.1           1.5          0.2  Iris-setosa"
      ]
     },
     "execution_count": 2,
     "metadata": {},
     "output_type": "execute_result"
    }
   ],
   "source": [
    "iris_url = 'https://archive.ics.uci.edu/ml/machine-learning-databases/iris/iris.data'\n",
    "iris = pd.read_csv(iris_url, sep = ',', header = None\\\n",
    "                   , names = ['sepal length', 'sepal width', 'petal length', 'petal width', 'species'])\n",
    "iris.head(4) # show first 4 data rows"
   ]
  },
  {
   "cell_type": "markdown",
   "metadata": {},
   "source": [
    "- each row refers to a single observed flower\n",
    "    - the number of rows is the total number of flowers in the dataset.\n",
    "    - *sample*: a single row\n",
    "    - ``n_samples``: number of rows\n",
    "\n",
    "- each column refers to a piece of information that describes each sample\n",
    "    - *feature*: a single column\n",
    "    ``n_features``: the number of columns\n",
    "        - each column has a data type: number (continuous), boolean, discrete (nominal or ordinal, represented with integers or strings)"
   ]
  },
  {
   "cell_type": "markdown",
   "metadata": {},
   "source": [
    "#### Features matrix\n",
    "\n",
    "The part of the data matrix containing the ``unsupervised attributes``\n",
    "\n",
    "Usually in *scikit-learn* documentation referred as ``X``\n",
    "\n",
    "Can be a:\n",
    "- two-dimensional numpy array with shape ``[n_samples, n_features]``\n",
    "- SciPy ``sparse matrix``\n",
    "- Pandas ``DataFrame``\n",
    "\n",
    "The matrix cases require uniform data types in columns\n"
   ]
  },
  {
   "cell_type": "markdown",
   "metadata": {},
   "source": [
    "#### Target array\n",
    "\n",
    "*label* or *target* array, by convention usually called ``y``\n",
    "- usually one dimensional, with length ``n_samples``, \n",
    "- generally contained in a NumPy array or Pandas ``Series``.\n",
    "- may have continuous numerical values, or discrete classes/labels\n",
    "- usually it the quantity we want to *predict from the data*\n",
    "    - in statistical terms, it is the dependent variable"
   ]
  },
  {
   "cell_type": "markdown",
   "metadata": {},
   "source": [
    "In the example we may wish to construct a model that can predict the species of flower based on the other measurements\n",
    "\n",
    "The measurements of the flower components are the ``features array``\n",
    "\n",
    "The ``species`` column can be considered the target array"
   ]
  }
 ],
 "metadata": {
  "kernelspec": {
   "display_name": "Anoconda (base)",
   "language": "python",
   "name": "anaconda-base"
  },
  "language_info": {
   "codemirror_mode": {
    "name": "ipython",
    "version": 3
   },
   "file_extension": ".py",
   "mimetype": "text/x-python",
   "name": "python",
   "nbconvert_exporter": "python",
   "pygments_lexer": "ipython3",
   "version": "3.9.13"
  }
 },
 "nbformat": 4,
 "nbformat_minor": 2
}
